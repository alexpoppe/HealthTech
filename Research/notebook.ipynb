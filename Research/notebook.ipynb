{
 "cells": [
  {
   "cell_type": "code",
   "execution_count": 3,
   "metadata": {},
   "outputs": [],
   "source": [
    "import os\n",
    "\n",
    "QDRANT_KEY=os.getenv('QDRANT_KEY')\n",
    "OPENAI_KEY=os.getenv('OPENAI_KEY')\n",
    "CLUSTER_URL=os.getenv('CLUSTER_URL')"
   ]
  },
  {
   "cell_type": "code",
   "execution_count": 4,
   "metadata": {},
   "outputs": [],
   "source": [
    "from qdrant_client import QdrantClient\n",
    "\n",
    "# connect to the cluster\n",
    "qdrant_client = QdrantClient(\n",
    "    url=CLUSTER_URL,\n",
    "    api_key=QDRANT_KEY\n",
    ")"
   ]
  },
  {
   "cell_type": "code",
   "execution_count": 7,
   "metadata": {},
   "outputs": [
    {
     "name": "stdout",
     "output_type": "stream",
     "text": [
      "Create collection response: <qdrant_client.qdrant_client.QdrantClient object at 0x122a06d90>\n",
      "Collection info: status=<CollectionStatus.GREEN: 'green'> optimizer_status=<OptimizersStatusOneOf.OK: 'ok'> vectors_count=0 indexed_vectors_count=0 points_count=0 segments_count=2 config=CollectionConfig(params=CollectionParams(vectors=VectorParams(size=1536, distance=<Distance.COSINE: 'Cosine'>), shard_number=1, replication_factor=1, write_consistency_factor=1, on_disk_payload=True), hnsw_config=HnswConfig(m=16, ef_construct=100, full_scan_threshold=10000, max_indexing_threads=0, on_disk=False, payload_m=None), optimizer_config=OptimizersConfig(deleted_threshold=0.2, vacuum_min_vector_number=1000, default_segment_number=0, max_segment_size=None, memmap_threshold=None, indexing_threshold=20000, flush_interval_sec=5, max_optimization_threads=1), wal_config=WalConfig(wal_capacity_mb=32, wal_segments_ahead=0), quantization_config=None) payload_schema={}\n"
     ]
    }
   ],
   "source": [
    "from qdrant_client.models import Distance, VectorParams\n",
    "\n",
    "# create the collection\n",
    "qdrant_client.recreate_collection(\n",
    "    collection_name=\"my_collection\",\n",
    "    vectors_config=VectorParams(size=1536, distance=Distance.COSINE)\n",
    ")\n",
    "\n",
    "print(\"Create collection response:\", qdrant_client)\n",
    "\n",
    "collection_info = qdrant_client.get_collection(collection_name=\"my_collection\")\n",
    "print(\"Collection info:\", collection_info)"
   ]
  },
  {
   "cell_type": "code",
   "execution_count": null,
   "metadata": {},
   "outputs": [],
   "source": [
    "import pdfplumber\n",
    "\n",
    "pages_to_skip = [2, 40, 41]\n",
    "one_pagers = [1, 3, 4, 7, 10, 14, 18, 21, 24, 28, 34, 38, 43, 44]\n",
    "CROP_SIZE = 0.9\n",
    "\n",
    "fulltext = \"\"\n",
    "with pdfplumber.open(\"../Data/JDRFTEENTOOLKIT.pdf\") as pdf:\n",
    "    for page in pdf.pages:\n",
    "        if page.page_number in pages_to_skip:\n",
    "            continue\n",
    "        if page.page_number in one_pagers:\n",
    "            page = page.crop((0, 0, float(page.width), CROP_SIZE * float(page.height)))\n",
    "            fulltext += page.extract_text()\n",
    "        else:\n",
    "            left = page.crop((0, 0, 0.5 * float(page.width), CROP_SIZE * float(page.height)))\n",
    "            right = page.crop((0.5 * float(page.width), 0, page.width, CROP_SIZE * float(page.height)))\n",
    "        \n",
    "            left_text = left.extract_text()\n",
    "            right_text = right.extract_text()\n",
    "        \n",
    "            fulltext += left_text\n",
    "            fulltext += '\\n'\n",
    "            fulltext += right_text\n",
    "            \n",
    "        fulltext += '\\n'\n",
    "        \n",
    "print(fulltext)"
   ]
  },
  {
   "cell_type": "code",
   "execution_count": null,
   "metadata": {},
   "outputs": [],
   "source": [
    "# divide in chunks\n",
    "\n",
    "text = fulltext\n",
    "chunks = []\n",
    "chunk_length = 500\n",
    "\n",
    "while text:\n",
    "    next_text = text[:chunk_length]\n",
    "    last_period_index = next_text.rfind('.')\n",
    "    if last_period_index == -1:\n",
    "        last_period_index = chunk_length\n",
    "    text = text[last_period_index + 1:]\n",
    "\n",
    "    next_chunk = next_text[:last_period_index + 1]\n",
    "    chunks.append(next_chunk)\n",
    "    \n",
    "for chunk in chunks:\n",
    "    print(chunk)\n",
    "    print('---')"
   ]
  },
  {
   "cell_type": "code",
   "execution_count": 52,
   "metadata": {},
   "outputs": [
    {
     "data": {
      "text/plain": [
       "259"
      ]
     },
     "execution_count": 52,
     "metadata": {},
     "output_type": "execute_result"
    }
   ],
   "source": [
    "len(chunks)"
   ]
  },
  {
   "cell_type": "code",
   "execution_count": null,
   "metadata": {},
   "outputs": [],
   "source": [
    "# create the embeddings for the entire text\n",
    "# To test, I only take the first 30 chunks because openai has limits\n",
    "from openai.error import RateLimitError\n",
    "import time\n",
    "\n",
    "from qdrant_client.http.models import PointStruct\n",
    "import openai\n",
    "\n",
    "openai.api_key = OPENAI_KEY\n",
    "\n",
    "points = []\n",
    "i = 1\n",
    "for chunk in chunks:\n",
    "    i += 1\n",
    "    print(i)\n",
    "    # print(\"Embeddings chunk:\", chunk)\n",
    "    while True:\n",
    "        try:\n",
    "            response = openai.Embedding.create(\n",
    "                input=chunk,\n",
    "                model=\"text-embedding-ada-002\"\n",
    "            )\n",
    "            break\n",
    "        except RateLimitError as e:\n",
    "            print('sleeping...')\n",
    "            time.sleep(70)\n",
    "            print('sleep over')\n",
    "    \n",
    "    embeddings = response['data'][0]['embedding']\n",
    "    \n",
    "    points.append(PointStruct(id=i, vector=embeddings, payload={\"text\": chunk}))"
   ]
  },
  {
   "cell_type": "code",
   "execution_count": 59,
   "metadata": {},
   "outputs": [
    {
     "data": {
      "text/plain": [
       "259"
      ]
     },
     "execution_count": 59,
     "metadata": {},
     "output_type": "execute_result"
    }
   ],
   "source": [
    "len(points)"
   ]
  },
  {
   "cell_type": "code",
   "execution_count": 61,
   "metadata": {},
   "outputs": [
    {
     "name": "stdout",
     "output_type": "stream",
     "text": [
      "Operation inf: operation_id=2 status=<UpdateStatus.COMPLETED: 'completed'>\n"
     ]
    }
   ],
   "source": [
    "# add the embeddings to the collection\n",
    "\n",
    "operation_info = qdrant_client.upsert(\n",
    "    collection_name=\"my_collection\",\n",
    "    wait=True,\n",
    "    points=points\n",
    ")\n",
    "\n",
    "print(\"Operation inf:\", operation_info)"
   ]
  },
  {
   "cell_type": "code",
   "execution_count": 65,
   "metadata": {},
   "outputs": [],
   "source": [
    "def create_answer_with_context(query, messages):\n",
    "    # create embedding for query\n",
    "    response = openai.Embedding.create(\n",
    "        input=query,\n",
    "        model=\"text-embedding-ada-002\"\n",
    "    )\n",
    "    \n",
    "    embeddings = response['data'][0]['embedding']\n",
    "    \n",
    "    # search for similar embeddings\n",
    "    search_result = qdrant_client.search(\n",
    "        collection_name=\"my_collection\",\n",
    "        query_vector=embeddings,\n",
    "        limit=5\n",
    "    )\n",
    "    \n",
    "    prompt = \"Context:\\n\"\n",
    "    \n",
    "    for result in search_result:\n",
    "        prompt += result.payload[\"text\"] + \"\\n---\\n\"\n",
    "    prompt += \"Question:\" + query + \"\\n---\\n\" + \"Answer:\"\n",
    "    # print(prompt)\n",
    "    # add prompt to openai gpt-3.5\n",
    "    \n",
    "    messages.append(\n",
    "        {\"role\": \"user\", \"content\": prompt}\n",
    "    )\n",
    "    \n",
    "    completion = openai.ChatCompletion.create(\n",
    "        model=\"gpt-3.5-turbo\",\n",
    "        messages=[\n",
    "            {\"role\": \"user\", \"content\": prompt}\n",
    "        ]\n",
    "    )\n",
    "    \n",
    "    answer = completion.choices[0].message.content\n",
    "    \n",
    "    messages.append(\n",
    "        {\"role\": \"assistant\", \"content\": answer}\n",
    "    )\n",
    "    \n",
    "    return answer, messages"
   ]
  },
  {
   "cell_type": "code",
   "execution_count": 68,
   "metadata": {},
   "outputs": [],
   "source": [
    "messages = []\n",
    "input = \"Are hemoglobin A1c levels of teens higer or lower compared to adults on average?\"\n",
    "answer, messages = create_answer_with_context(input, messages)"
   ]
  },
  {
   "cell_type": "code",
   "execution_count": 69,
   "metadata": {},
   "outputs": [
    {
     "data": {
      "text/plain": [
       "'Hemoglobin A1c levels of teens are one percent higher on average compared to adults.'"
      ]
     },
     "execution_count": 69,
     "metadata": {},
     "output_type": "execute_result"
    }
   ],
   "source": [
    "answer"
   ]
  },
  {
   "cell_type": "code",
   "execution_count": 70,
   "metadata": {},
   "outputs": [],
   "source": [
    "input = \"How much higher is it?\"\n",
    "answer, messages = create_answer_with_context(input, messages)"
   ]
  },
  {
   "cell_type": "code",
   "execution_count": 71,
   "metadata": {},
   "outputs": [
    {
     "data": {
      "text/plain": [
       "'Teens with T1D have an average hemoglobin A1c level that is one percent higher than that of adults.'"
      ]
     },
     "execution_count": 71,
     "metadata": {},
     "output_type": "execute_result"
    }
   ],
   "source": [
    "answer"
   ]
  },
  {
   "cell_type": "code",
   "execution_count": 72,
   "metadata": {},
   "outputs": [
    {
     "data": {
      "text/plain": [
       "[{'role': 'user',\n",
       "  'content': 'Context:\\n\\nSo what exactly does puberty do to T1D overall? According to\\nmedical studies, teens have an average hemoglobin A1c level\\nthat is one percent higher than that of adultsiii. As a result,\\nthey typically require more insulin. To complicate matters,\\nthe sex hormones (estrogen and testosterone) that are the\\nhallmark of puberty work against insulin. While insulin lowers\\nblood glucose, sex hormones raise it.\\n---\\n A teen has school,\\nsports, other activities, a social life, and more. It could be that\\nyour teen is away from you more than he is home. So how is\\na parent supposed to recognize if any rebellion is going on?\\nOften, an elevated HbA1c level can be the first sign that makes\\nparents wonder if their teen is starting to rebel. But an elevated\\nHbA1c is not reason to immediately scream, “rebellion!”\\nsince hormones and growth can affect HbA1c levels.\\n---\\n Large swings\\nin HbA1c levels are one red flag. (By that we mean that\\nyour medical team feels the situation is cause for alarm and\\nimmediate action. Don’t forget teens are going to have a harder\\ntime with HbA1c levels even with you in charge.) If your\\nmedical team sees your teen struggling, you will want to find a\\nway to re-insert yourself into his daily care. Goodness knows,\\na parent cannot be around to count carbohydrates for a teen at\\nevery meal and every time he eats.\\n---\\n\\nAnd even if the numbers seem to be fine, if you see the\\ncombination of an elevated HbA1c and weight loss, contact\\nyour medical team about how to make sure your teen is safe\\nand not struggling with eating issues. If this turns out to be\\nthe case, it is a situation that demands immediate and expert\\nattention. Ask your medical team to help you find a local\\ncounselor to help your teen address this dangerous behavior.\\n---\\n You can let the teen read the\\nresults first and then read them on your own, or read them\\nwell before you are going to see your child. This way, if there\\nis something like an elevated HbA1c that surprises you, you’ll\\nhave time to prepare your response.\\nYou can also call your teen’s medical team for a follow-up\\ndiscussion. It’s a good idea to let your teen know if you plan to\\ndo this.\\n---\\nQuestion:Are hemoglobin A1c levels of teens higer or lower compared to adults on average?\\n---\\nAnswer:'},\n",
       " {'role': 'assistant',\n",
       "  'content': 'Hemoglobin A1c levels of teens are one percent higher on average compared to adults.'},\n",
       " {'role': 'user',\n",
       "  'content': 'Context:\\n\\nSo what exactly does puberty do to T1D overall? According to\\nmedical studies, teens have an average hemoglobin A1c level\\nthat is one percent higher than that of adultsiii. As a result,\\nthey typically require more insulin. To complicate matters,\\nthe sex hormones (estrogen and testosterone) that are the\\nhallmark of puberty work against insulin. While insulin lowers\\nblood glucose, sex hormones raise it.\\n---\\n\\n\\n---\\n\\nNewly diagnosed teens\\nIt’s a question kids with T1D debate all the time—is it easier\\nto be a teen who does not recall what it’s like to live without\\ndiabetes, or easier to be older when you begin this new life?\\nSome say that if you don’t know anything different, it has to\\nbe easier to accept; others say not knowing anything different\\nmakes it harder to accept.\\n---\\n\\n• E mpty control solution bottles. It sounds\\nmistrustful, but it’s often best to keep the control\\nsolution somewhere other than with the meters.\\n• M ore frequent and unexplained high blood-\\nsugar levels when you witness a reading. Some\\nmay be from growth, but there is the possibility\\nof a missed bolus earlier in the day.\\n• R apid weight loss (more on that later in this\\nsection).\\n---\\n A teen has school,\\nsports, other activities, a social life, and more. It could be that\\nyour teen is away from you more than he is home. So how is\\na parent supposed to recognize if any rebellion is going on?\\nOften, an elevated HbA1c level can be the first sign that makes\\nparents wonder if their teen is starting to rebel. But an elevated\\nHbA1c is not reason to immediately scream, “rebellion!”\\nsince hormones and growth can affect HbA1c levels.\\n---\\nQuestion:How much higher is it?\\n---\\nAnswer:'},\n",
       " {'role': 'assistant',\n",
       "  'content': 'Teens with T1D have an average hemoglobin A1c level that is one percent higher than that of adults.'}]"
      ]
     },
     "execution_count": 72,
     "metadata": {},
     "output_type": "execute_result"
    }
   ],
   "source": [
    "messages"
   ]
  },
  {
   "cell_type": "code",
   "execution_count": 73,
   "metadata": {},
   "outputs": [],
   "source": [
    "input = \"What is the result of that?\"\n",
    "answer, messages = create_answer_with_context(input, messages)"
   ]
  },
  {
   "cell_type": "code",
   "execution_count": 74,
   "metadata": {},
   "outputs": [
    {
     "data": {
      "text/plain": [
       "\"Teens may begin to question their parents' requests regarding managing their blood sugar, or even ignore and avoid them. They may also become more self-conscious about their diabetes management tools, such as pumps and meters, and seek to hide them.\""
      ]
     },
     "execution_count": 74,
     "metadata": {},
     "output_type": "execute_result"
    }
   ],
   "source": [
    "answer"
   ]
  },
  {
   "cell_type": "code",
   "execution_count": 75,
   "metadata": {},
   "outputs": [],
   "source": [
    "input = \"What does this say about the insuline intake?\"\n",
    "answer, messages = create_answer_with_context(input, messages)"
   ]
  },
  {
   "cell_type": "code",
   "execution_count": 76,
   "metadata": {},
   "outputs": [
    {
     "data": {
      "text/plain": [
       "'Teens with T1D typically require more insulin during puberty, as their average hemoglobin A1c level is one percent higher than that of adults. However, the sex hormones (estrogen and testosterone) that are the hallmark of puberty work against insulin, so it can be a challenge for parents to keep up with which increases in insulin dosage are due to more food and which are due to changes in the growing teen’s body. Taking the amount of insulin needed to keep blood glucose levels in a safe and healthy range does not lead to weight gain. Additionally, cutting back on insulin to lose weight quickly can lead to unhealthy eating behavior.'"
      ]
     },
     "execution_count": 76,
     "metadata": {},
     "output_type": "execute_result"
    }
   ],
   "source": [
    "answer"
   ]
  },
  {
   "cell_type": "code",
   "execution_count": 77,
   "metadata": {},
   "outputs": [
    {
     "data": {
      "text/plain": [
       "[{'role': 'user',\n",
       "  'content': 'Context:\\n\\nSo what exactly does puberty do to T1D overall? According to\\nmedical studies, teens have an average hemoglobin A1c level\\nthat is one percent higher than that of adultsiii. As a result,\\nthey typically require more insulin. To complicate matters,\\nthe sex hormones (estrogen and testosterone) that are the\\nhallmark of puberty work against insulin. While insulin lowers\\nblood glucose, sex hormones raise it.\\n---\\n A teen has school,\\nsports, other activities, a social life, and more. It could be that\\nyour teen is away from you more than he is home. So how is\\na parent supposed to recognize if any rebellion is going on?\\nOften, an elevated HbA1c level can be the first sign that makes\\nparents wonder if their teen is starting to rebel. But an elevated\\nHbA1c is not reason to immediately scream, “rebellion!”\\nsince hormones and growth can affect HbA1c levels.\\n---\\n Large swings\\nin HbA1c levels are one red flag. (By that we mean that\\nyour medical team feels the situation is cause for alarm and\\nimmediate action. Don’t forget teens are going to have a harder\\ntime with HbA1c levels even with you in charge.) If your\\nmedical team sees your teen struggling, you will want to find a\\nway to re-insert yourself into his daily care. Goodness knows,\\na parent cannot be around to count carbohydrates for a teen at\\nevery meal and every time he eats.\\n---\\n\\nAnd even if the numbers seem to be fine, if you see the\\ncombination of an elevated HbA1c and weight loss, contact\\nyour medical team about how to make sure your teen is safe\\nand not struggling with eating issues. If this turns out to be\\nthe case, it is a situation that demands immediate and expert\\nattention. Ask your medical team to help you find a local\\ncounselor to help your teen address this dangerous behavior.\\n---\\n You can let the teen read the\\nresults first and then read them on your own, or read them\\nwell before you are going to see your child. This way, if there\\nis something like an elevated HbA1c that surprises you, you’ll\\nhave time to prepare your response.\\nYou can also call your teen’s medical team for a follow-up\\ndiscussion. It’s a good idea to let your teen know if you plan to\\ndo this.\\n---\\nQuestion:Are hemoglobin A1c levels of teens higer or lower compared to adults on average?\\n---\\nAnswer:'},\n",
       " {'role': 'assistant',\n",
       "  'content': 'Hemoglobin A1c levels of teens are one percent higher on average compared to adults.'},\n",
       " {'role': 'user',\n",
       "  'content': 'Context:\\n\\nSo what exactly does puberty do to T1D overall? According to\\nmedical studies, teens have an average hemoglobin A1c level\\nthat is one percent higher than that of adultsiii. As a result,\\nthey typically require more insulin. To complicate matters,\\nthe sex hormones (estrogen and testosterone) that are the\\nhallmark of puberty work against insulin. While insulin lowers\\nblood glucose, sex hormones raise it.\\n---\\n\\n\\n---\\n\\nNewly diagnosed teens\\nIt’s a question kids with T1D debate all the time—is it easier\\nto be a teen who does not recall what it’s like to live without\\ndiabetes, or easier to be older when you begin this new life?\\nSome say that if you don’t know anything different, it has to\\nbe easier to accept; others say not knowing anything different\\nmakes it harder to accept.\\n---\\n\\n• E mpty control solution bottles. It sounds\\nmistrustful, but it’s often best to keep the control\\nsolution somewhere other than with the meters.\\n• M ore frequent and unexplained high blood-\\nsugar levels when you witness a reading. Some\\nmay be from growth, but there is the possibility\\nof a missed bolus earlier in the day.\\n• R apid weight loss (more on that later in this\\nsection).\\n---\\n A teen has school,\\nsports, other activities, a social life, and more. It could be that\\nyour teen is away from you more than he is home. So how is\\na parent supposed to recognize if any rebellion is going on?\\nOften, an elevated HbA1c level can be the first sign that makes\\nparents wonder if their teen is starting to rebel. But an elevated\\nHbA1c is not reason to immediately scream, “rebellion!”\\nsince hormones and growth can affect HbA1c levels.\\n---\\nQuestion:How much higher is it?\\n---\\nAnswer:'},\n",
       " {'role': 'assistant',\n",
       "  'content': 'Teens with T1D have an average hemoglobin A1c level that is one percent higher than that of adults.'},\n",
       " {'role': 'user',\n",
       "  'content': 'Context:\\n\\n\\n---\\n\\nAnd even if the numbers seem to be fine, if you see the\\ncombination of an elevated HbA1c and weight loss, contact\\nyour medical team about how to make sure your teen is safe\\nand not struggling with eating issues. If this turns out to be\\nthe case, it is a situation that demands immediate and expert\\nattention. Ask your medical team to help you find a local\\ncounselor to help your teen address this dangerous behavior.\\n---\\n This can make it difficult to\\nfigure out if it is the impact of puberty or the result of your\\nchild not doing what he needs to do to manage his blood sugar\\n(or both) that is causing a high level. For the multitasking\\nparent, this may be hard to accept, but teens also have a lot\\non their minds. Their preoccupations can lead to forgetting\\nboluses/injections, blood-sugar checks, necessary supplies,\\nand more.\\n---\\n\\nParents should see this as a chance to reach their teens. Teens\\nare very in-the-moment. No articles about complications or\\nlectures about long-term results of poor control are going to\\nget through to most of them. But the privilege of driving a car?\\nNow that resonates. Use that power for good.\\nThe hard part of sticking to that is if you take away the right to\\ndrive, you are back to being a parent-taxi again.\\n---\\n The girl who once simply clipped her pump to her belt\\nbuckle and let it hang out there now painstakingly finds ways\\nto hide it. The boy who whipped out his meter on the sidelines\\nat Little League now wants to check his blood sugar in the car\\nand not bring his meter with him to the playing field. Kids\\nwho once complied with your every order to do a bolus, check\\nblood glucose, or eat a snack begin to question your requests,\\nor, worse, ignore and avoid you.\\n---\\nQuestion:What is the result of that?\\n---\\nAnswer:'},\n",
       " {'role': 'assistant',\n",
       "  'content': \"Teens may begin to question their parents' requests regarding managing their blood sugar, or even ignore and avoid them. They may also become more self-conscious about their diabetes management tools, such as pumps and meters, and seek to hide them.\"},\n",
       " {'role': 'user',\n",
       "  'content': 'Context:\\n This understanding\\nmay help soothe him when he is upset or despondent about\\nblood-sugar levels that seem out of his control. Explain to\\nhim (and yourself) that taking more insulin during puberty is\\nexpected, important, and all-around acceptable. He may worry\\nabout gaining weight from the additional insulin that is needed\\nfor good control. Explain to him that taking the amount of\\ninsulin his body needs to keep his blood glucose in a safe and\\nhealthy range does not lead to weight gain.\\n---\\n For example, parents\\nwho once managed their child’s eating with a ratio of one unit\\nof insulin for about 30 grams of carbohydrates are surprised\\nwhen suddenly the same child needs one unit of insulin for 10–\\n15 grams of carbohydrates. Clearly, the challenge for parents\\nis to keep up with which increases are due to more food and\\nwhich are due to changes in the growing teen’s body. And it is\\nindeed just that—a challenge.\\n---\\n\\nSo what exactly does puberty do to T1D overall? According to\\nmedical studies, teens have an average hemoglobin A1c level\\nthat is one percent higher than that of adultsiii. As a result,\\nthey typically require more insulin. To complicate matters,\\nthe sex hormones (estrogen and testosterone) that are the\\nhallmark of puberty work against insulin. While insulin lowers\\nblood glucose, sex hormones raise it.\\n---\\n This means that if someone with\\nT1D is drinking alcoholic beverages and her blood-sugar level\\ndrops, not only does being drunk hinder her ability to detect\\nand treat the low, but her body will not help her out. Most\\npeople think that because alcohol acts like a carbohydrate and\\nhas a tendency to raise the blood glucose—especially if the\\nbeverage has sugary or high-calorie mixers like juice, regular\\nsoda, or margarita mix—they may even take more insulin.\\n---\\n If your teen was diagnosed\\nback in the days of regular and NPH insulin, she probably\\nlived through a period of time when food was considered\\nlike medicine and certain foods and certain eating times were\\ncompletely off limits. All that weighs on a child’s mind—and it\\ncan lead to unhealthy eating behavior.\\nAdd to that the fact that a teen who wants to lose a few pounds\\nquickly can just cut back on insulin, and there is potential\\ntemptation.\\n---\\nQuestion:What does this say about the insuline intake?\\n---\\nAnswer:'},\n",
       " {'role': 'assistant',\n",
       "  'content': 'Teens with T1D typically require more insulin during puberty, as their average hemoglobin A1c level is one percent higher than that of adults. However, the sex hormones (estrogen and testosterone) that are the hallmark of puberty work against insulin, so it can be a challenge for parents to keep up with which increases in insulin dosage are due to more food and which are due to changes in the growing teen’s body. Taking the amount of insulin needed to keep blood glucose levels in a safe and healthy range does not lead to weight gain. Additionally, cutting back on insulin to lose weight quickly can lead to unhealthy eating behavior.'}]"
      ]
     },
     "execution_count": 77,
     "metadata": {},
     "output_type": "execute_result"
    }
   ],
   "source": [
    "messages"
   ]
  },
  {
   "cell_type": "code",
   "execution_count": null,
   "metadata": {},
   "outputs": [],
   "source": []
  }
 ],
 "metadata": {
  "kernelspec": {
   "display_name": "chatbot",
   "language": "python",
   "name": "python3"
  },
  "language_info": {
   "codemirror_mode": {
    "name": "ipython",
    "version": 3
   },
   "file_extension": ".py",
   "mimetype": "text/x-python",
   "name": "python",
   "nbconvert_exporter": "python",
   "pygments_lexer": "ipython3",
   "version": "3.11.0"
  },
  "orig_nbformat": 4
 },
 "nbformat": 4,
 "nbformat_minor": 2
}
